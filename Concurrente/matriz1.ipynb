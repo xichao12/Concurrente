{
 "cells": [
  {
   "cell_type": "code",
   "execution_count": 1,
   "id": "0c74b991-dd6a-435b-bc61-72406630ae8b",
   "metadata": {},
   "outputs": [],
   "source": [
    "import random # Para generar num. aleatorios en la A y B \n"
   ]
  },
  {
   "cell_type": "code",
   "execution_count": 2,
   "id": "a61eda7e-2f33-4320-bf05-f128b6a8ac32",
   "metadata": {},
   "outputs": [],
   "source": [
    "import math"
   ]
  },
  {
   "cell_type": "code",
   "execution_count": 3,
   "id": "6720d25e-5636-43c7-aed4-71f732b7d940",
   "metadata": {},
   "outputs": [],
   "source": [
    "import multiprocessing as mp  # Para trabajar en paralelo"
   ]
  },
  {
   "cell_type": "code",
   "execution_count": 4,
   "id": "73a43835-b7a5-4d55-82fb-4538a7c1c7d8",
   "metadata": {},
   "outputs": [],
   "source": [
    "import time"
   ]
  },
  {
   "cell_type": "code",
   "execution_count": null,
   "id": "712f2033-a925-42f2-8707-da46824d12ec",
   "metadata": {},
   "outputs": [],
   "source": []
  },
  {
   "cell_type": "code",
   "execution_count": 5,
   "id": "fbbf9a37-d3a7-49ca-b8ce-773cf924462f",
   "metadata": {},
   "outputs": [],
   "source": [
    "def sec_mult(A, B): # f() que calcula la mult. en secuencial, como toda la vida se ha hecho \n",
    "    C = [[0] * n_col_B for i in range(n_fil_A)] # Crear y poblar la matrix  C = A*B\n",
    "    for i in range(n_fil_A): # Hago la multiplicacion de AxB = C, i para iterar sobre las filas de A\n",
    "        for j in range(n_col_B): # j para iterar sobre las columnas de B\n",
    "            for k in range(n_col_A): # k para iterar en C\n",
    "                C[i][j] += A[i][k] * B[k][j] # Aqui se hace la multiplicación y guardo en C."
   ]
  },
  {
   "cell_type": "code",
   "execution_count": null,
   "id": "6cb1172a-875e-4916-abe5-19ae4ef1ae38",
   "metadata": {},
   "outputs": [],
   "source": []
  }
 ],
 "metadata": {
  "kernelspec": {
   "display_name": "Python 3",
   "language": "python",
   "name": "python3"
  },
  "language_info": {
   "codemirror_mode": {
    "name": "ipython",
    "version": 3
   },
   "file_extension": ".py",
   "mimetype": "text/x-python",
   "name": "python",
   "nbconvert_exporter": "python",
   "pygments_lexer": "ipython3",
   "version": "3.8.8"
  }
 },
 "nbformat": 4,
 "nbformat_minor": 5
}
