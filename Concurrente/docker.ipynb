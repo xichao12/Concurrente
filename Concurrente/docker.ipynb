{
 "cells": [
  {
   "cell_type": "code",
   "execution_count": 1,
   "id": "2bf573db-4e6c-453c-abd2-8567b97fb84c",
   "metadata": {},
   "outputs": [
    {
     "name": "stdout",
     "output_type": "stream",
     "text": [
      "Docker version 20.10.10, build b485636\n"
     ]
    }
   ],
   "source": [
    "!docker --version"
   ]
  },
  {
   "cell_type": "code",
   "execution_count": 2,
   "id": "f158246a-d31c-439d-b86e-5a3cc8c00b94",
   "metadata": {},
   "outputs": [
    {
     "name": "stderr",
     "output_type": "stream",
     "text": [
      "docker: 'docker' is not a docker command.\n",
      "See 'docker --help'\n"
     ]
    }
   ],
   "source": [
    "!docker docker pull alpine"
   ]
  },
  {
   "cell_type": "code",
   "execution_count": 3,
   "id": "8ed1b358-023a-4b5d-8e97-ef428f5b2155",
   "metadata": {},
   "outputs": [
    {
     "name": "stdout",
     "output_type": "stream",
     "text": [
      "Using default tag: latest\n",
      "latest: Pulling from library/alpine\n",
      "Digest: sha256:635f0aa53d99017b38d1a0aa5b2082f7812b03e3cdb299103fe77b5c8a07f1d2\n",
      "Status: Image is up to date for alpine:latest\n",
      "docker.io/library/alpine:latest\n"
     ]
    }
   ],
   "source": [
    "!docker pull alpine"
   ]
  },
  {
   "cell_type": "code",
   "execution_count": null,
   "id": "e532c8eb-a0b6-4647-8584-82d7b010bd15",
   "metadata": {},
   "outputs": [],
   "source": []
  }
 ],
 "metadata": {
  "kernelspec": {
   "display_name": "Python 3",
   "language": "python",
   "name": "python3"
  },
  "language_info": {
   "codemirror_mode": {
    "name": "ipython",
    "version": 3
   },
   "file_extension": ".py",
   "mimetype": "text/x-python",
   "name": "python",
   "nbconvert_exporter": "python",
   "pygments_lexer": "ipython3",
   "version": "3.8.8"
  }
 },
 "nbformat": 4,
 "nbformat_minor": 5
}
