{
 "cells": [
  {
   "cell_type": "code",
   "execution_count": 1,
   "id": "436c2819-2fb6-477e-9c15-629b72279d01",
   "metadata": {},
   "outputs": [],
   "source": [
    "import requests as rq, pandas as pd,json"
   ]
  },
  {
   "cell_type": "code",
   "execution_count": 24,
   "id": "530028d7-b23a-4b65-a8ab-6beab7adbbdc",
   "metadata": {},
   "outputs": [],
   "source": [
    "url_ ='https://sedeaplicaciones.minetur.gob.es/ServiciosRESTCarburantes/PreciosCarburantes/EstacionesTerrestres/'"
   ]
  },
  {
   "cell_type": "code",
   "execution_count": 22,
   "id": "c3f53d26-1a09-4278-ab2e-df8a02221103",
   "metadata": {},
   "outputs": [],
   "source": [
    "res_=rq.api.get(url_)"
   ]
  },
  {
   "cell_type": "code",
   "execution_count": 25,
   "id": "a7ab88a0-9abd-46c3-b3de-d3805422e601",
   "metadata": {},
   "outputs": [
    {
     "data": {
      "text/plain": [
       "{'Cache-Control': 'private', 'Content-Length': '9276096', 'Content-Type': 'application/json; charset=utf-8', 'Server': 'Microsoft-IIS/7.5', 'X-AspNet-Version': '4.0.30319', 'X-Powered-By': 'ASP.NET', 'Access-Control-Allow-Origin': '*', 'Access-Control-Allow-Headers': 'Origin, X-Requested-With, Content-Type, Accept, Authorization', 'Access-Control-Allow-Methods': 'POST,GET,OPTIONS', 'Date': 'Thu, 21 Oct 2021 16:42:37 GMT'}"
      ]
     },
     "execution_count": 25,
     "metadata": {},
     "output_type": "execute_result"
    }
   ],
   "source": [
    "res_.headers"
   ]
  },
  {
   "cell_type": "code",
   "execution_count": 34,
   "id": "1abdef32-d376-424d-be38-70061f08f260",
   "metadata": {},
   "outputs": [],
   "source": [
    "raw_=open('gasolina.json', 'w')"
   ]
  },
  {
   "cell_type": "code",
   "execution_count": 35,
   "id": "746b7118-2080-4c15-b5dd-67fabfce22ec",
   "metadata": {},
   "outputs": [
    {
     "data": {
      "text/plain": [
       "9199947"
      ]
     },
     "execution_count": 35,
     "metadata": {},
     "output_type": "execute_result"
    }
   ],
   "source": [
    "raw_.write(res_.text)"
   ]
  },
  {
   "cell_type": "code",
   "execution_count": 36,
   "id": "80043478-daaf-4876-bd3c-6c7fbe863a98",
   "metadata": {},
   "outputs": [
    {
     "name": "stdout",
     "output_type": "stream",
     "text": [
      " Volume in drive C has no label.\n",
      " Volume Serial Number is 74E4-C29F\n",
      "\n",
      " Directory of C:\\Users\\lurex\n",
      "\n",
      "10/21/2021  06:45 PM         9,199,947 gasolina.json\n",
      "               1 File(s)      9,199,947 bytes\n",
      "               0 Dir(s)  527,812,808,704 bytes free\n"
     ]
    }
   ],
   "source": [
    "ls gasolina.json"
   ]
  },
  {
   "cell_type": "code",
   "execution_count": null,
   "id": "911dfbb9-b2dd-4444-9093-fd9344f514bf",
   "metadata": {},
   "outputs": [],
   "source": []
  },
  {
   "cell_type": "code",
   "execution_count": null,
   "id": "ad6a26c8-76d4-4e92-8cd7-ddb0b97bdb4a",
   "metadata": {},
   "outputs": [],
   "source": [
    "pd.read_json()"
   ]
  },
  {
   "cell_type": "code",
   "execution_count": 15,
   "id": "6785ac27-c391-4f79-ab61-b541ef306fc6",
   "metadata": {},
   "outputs": [
    {
     "data": {
      "text/plain": [
       "'C:\\\\Users\\\\lurex'"
      ]
     },
     "execution_count": 15,
     "metadata": {},
     "output_type": "execute_result"
    }
   ],
   "source": [
    "pwd"
   ]
  },
  {
   "cell_type": "code",
   "execution_count": 37,
   "id": "f6309f98-d0eb-4fe0-89ce-3707057f3128",
   "metadata": {},
   "outputs": [
    {
     "data": {
      "text/html": [
       "<div>\n",
       "<style scoped>\n",
       "    .dataframe tbody tr th:only-of-type {\n",
       "        vertical-align: middle;\n",
       "    }\n",
       "\n",
       "    .dataframe tbody tr th {\n",
       "        vertical-align: top;\n",
       "    }\n",
       "\n",
       "    .dataframe thead th {\n",
       "        text-align: right;\n",
       "    }\n",
       "</style>\n",
       "<table border=\"1\" class=\"dataframe\">\n",
       "  <thead>\n",
       "    <tr style=\"text-align: right;\">\n",
       "      <th></th>\n",
       "      <th>Fecha</th>\n",
       "      <th>ListaEESSPrecio</th>\n",
       "      <th>Nota</th>\n",
       "      <th>ResultadoConsulta</th>\n",
       "    </tr>\n",
       "  </thead>\n",
       "  <tbody>\n",
       "    <tr>\n",
       "      <th>0</th>\n",
       "      <td>21/10/2021 18:42:37</td>\n",
       "      <td>{'C.P.': '02250', 'Direcci�n': 'AVENIDA CASTIL...</td>\n",
       "      <td>Archivo de todos los productos en todas las es...</td>\n",
       "      <td>OK</td>\n",
       "    </tr>\n",
       "    <tr>\n",
       "      <th>1</th>\n",
       "      <td>21/10/2021 18:42:37</td>\n",
       "      <td>{'C.P.': '02152', 'Direcci�n': 'CR CM-332, 46,...</td>\n",
       "      <td>Archivo de todos los productos en todas las es...</td>\n",
       "      <td>OK</td>\n",
       "    </tr>\n",
       "    <tr>\n",
       "      <th>2</th>\n",
       "      <td>21/10/2021 18:42:37</td>\n",
       "      <td>{'C.P.': '02001', 'Direcci�n': 'CALLE FEDERICO...</td>\n",
       "      <td>Archivo de todos los productos en todas las es...</td>\n",
       "      <td>OK</td>\n",
       "    </tr>\n",
       "    <tr>\n",
       "      <th>3</th>\n",
       "      <td>21/10/2021 18:42:37</td>\n",
       "      <td>{'C.P.': '02001', 'Direcci�n': 'CALLE PRINCIPE...</td>\n",
       "      <td>Archivo de todos los productos en todas las es...</td>\n",
       "      <td>OK</td>\n",
       "    </tr>\n",
       "    <tr>\n",
       "      <th>4</th>\n",
       "      <td>21/10/2021 18:42:37</td>\n",
       "      <td>{'C.P.': '02001', 'Direcci�n': 'AVENIDA 1� DE ...</td>\n",
       "      <td>Archivo de todos los productos en todas las es...</td>\n",
       "      <td>OK</td>\n",
       "    </tr>\n",
       "    <tr>\n",
       "      <th>...</th>\n",
       "      <td>...</td>\n",
       "      <td>...</td>\n",
       "      <td>...</td>\n",
       "      <td>...</td>\n",
       "    </tr>\n",
       "    <tr>\n",
       "      <th>11414</th>\n",
       "      <td>21/10/2021 18:42:37</td>\n",
       "      <td>{'C.P.': '50197', 'Direcci�n': 'AVENIDA DIAGON...</td>\n",
       "      <td>Archivo de todos los productos en todas las es...</td>\n",
       "      <td>OK</td>\n",
       "    </tr>\n",
       "    <tr>\n",
       "      <th>11415</th>\n",
       "      <td>21/10/2021 18:42:37</td>\n",
       "      <td>{'C.P.': '50197', 'Direcci�n': 'POLIGONO CALLE...</td>\n",
       "      <td>Archivo de todos los productos en todas las es...</td>\n",
       "      <td>OK</td>\n",
       "    </tr>\n",
       "    <tr>\n",
       "      <th>11416</th>\n",
       "      <td>21/10/2021 18:42:37</td>\n",
       "      <td>{'C.P.': '50800', 'Direcci�n': 'CARRETERA N-33...</td>\n",
       "      <td>Archivo de todos los productos en todas las es...</td>\n",
       "      <td>OK</td>\n",
       "    </tr>\n",
       "    <tr>\n",
       "      <th>11417</th>\n",
       "      <td>21/10/2021 18:42:37</td>\n",
       "      <td>{'C.P.': '50800', 'Direcci�n': 'CALLE AUSTRIA,...</td>\n",
       "      <td>Archivo de todos los productos en todas las es...</td>\n",
       "      <td>OK</td>\n",
       "    </tr>\n",
       "    <tr>\n",
       "      <th>11418</th>\n",
       "      <td>21/10/2021 18:42:37</td>\n",
       "      <td>{'C.P.': '50810', 'Direcci�n': 'CALLE COOPERAT...</td>\n",
       "      <td>Archivo de todos los productos en todas las es...</td>\n",
       "      <td>OK</td>\n",
       "    </tr>\n",
       "  </tbody>\n",
       "</table>\n",
       "<p>11419 rows × 4 columns</p>\n",
       "</div>"
      ],
      "text/plain": [
       "                     Fecha                                    ListaEESSPrecio  \\\n",
       "0      21/10/2021 18:42:37  {'C.P.': '02250', 'Direcci�n': 'AVENIDA CASTIL...   \n",
       "1      21/10/2021 18:42:37  {'C.P.': '02152', 'Direcci�n': 'CR CM-332, 46,...   \n",
       "2      21/10/2021 18:42:37  {'C.P.': '02001', 'Direcci�n': 'CALLE FEDERICO...   \n",
       "3      21/10/2021 18:42:37  {'C.P.': '02001', 'Direcci�n': 'CALLE PRINCIPE...   \n",
       "4      21/10/2021 18:42:37  {'C.P.': '02001', 'Direcci�n': 'AVENIDA 1� DE ...   \n",
       "...                    ...                                                ...   \n",
       "11414  21/10/2021 18:42:37  {'C.P.': '50197', 'Direcci�n': 'AVENIDA DIAGON...   \n",
       "11415  21/10/2021 18:42:37  {'C.P.': '50197', 'Direcci�n': 'POLIGONO CALLE...   \n",
       "11416  21/10/2021 18:42:37  {'C.P.': '50800', 'Direcci�n': 'CARRETERA N-33...   \n",
       "11417  21/10/2021 18:42:37  {'C.P.': '50800', 'Direcci�n': 'CALLE AUSTRIA,...   \n",
       "11418  21/10/2021 18:42:37  {'C.P.': '50810', 'Direcci�n': 'CALLE COOPERAT...   \n",
       "\n",
       "                                                    Nota ResultadoConsulta  \n",
       "0      Archivo de todos los productos en todas las es...                OK  \n",
       "1      Archivo de todos los productos en todas las es...                OK  \n",
       "2      Archivo de todos los productos en todas las es...                OK  \n",
       "3      Archivo de todos los productos en todas las es...                OK  \n",
       "4      Archivo de todos los productos en todas las es...                OK  \n",
       "...                                                  ...               ...  \n",
       "11414  Archivo de todos los productos en todas las es...                OK  \n",
       "11415  Archivo de todos los productos en todas las es...                OK  \n",
       "11416  Archivo de todos los productos en todas las es...                OK  \n",
       "11417  Archivo de todos los productos en todas las es...                OK  \n",
       "11418  Archivo de todos los productos en todas las es...                OK  \n",
       "\n",
       "[11419 rows x 4 columns]"
      ]
     },
     "execution_count": 37,
     "metadata": {},
     "output_type": "execute_result"
    }
   ],
   "source": [
    "pd.read_json('gasolina.json')"
   ]
  },
  {
   "cell_type": "code",
   "execution_count": 39,
   "id": "a5fae4f4-298c-42b8-a8e8-9c3011ef19ef",
   "metadata": {},
   "outputs": [
    {
     "data": {
      "text/plain": [
       "<_io.TextIOWrapper name='gasolina.json' mode='r' encoding='cp1252'>"
      ]
     },
     "execution_count": 39,
     "metadata": {},
     "output_type": "execute_result"
    }
   ],
   "source": [
    "open('gasolina.json')"
   ]
  },
  {
   "cell_type": "code",
   "execution_count": null,
   "id": "2a930558-0617-4ad4-b5a5-e5a901610058",
   "metadata": {},
   "outputs": [],
   "source": []
  }
 ],
 "metadata": {
  "kernelspec": {
   "display_name": "Python 3",
   "language": "python",
   "name": "python3"
  },
  "language_info": {
   "codemirror_mode": {
    "name": "ipython",
    "version": 3
   },
   "file_extension": ".py",
   "mimetype": "text/x-python",
   "name": "python",
   "nbconvert_exporter": "python",
   "pygments_lexer": "ipython3",
   "version": "3.8.8"
  }
 },
 "nbformat": 4,
 "nbformat_minor": 5
}
