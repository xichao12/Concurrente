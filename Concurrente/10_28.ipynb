{
 "cells": [
  {
   "cell_type": "code",
   "execution_count": 1,
   "id": "60ad83ea-055a-49ef-9287-ff9d5afe061c",
   "metadata": {},
   "outputs": [],
   "source": [
    "import numpy as np, multiprocessing as mp, os"
   ]
  },
  {
   "cell_type": "code",
   "execution_count": null,
   "id": "61e7fcaf-bb82-45d2-a993-51b11f877193",
   "metadata": {},
   "outputs": [],
   "source": [
    "def seq (a,b):\n",
    "    par(a,b);"
   ]
  },
  {
   "cell_type": "code",
   "execution_count": null,
   "id": "d8b07bc4-ab33-4036-91a0-233520887a40",
   "metadata": {},
   "outputs": [],
   "source": [
    "def par(a,b):\n",
    "    n_cores=mp.cpu_count()\n",
    "    n_fila_a\n",
    "    n_col_a\n",
    "    n_fila_b\n",
    "    n_col_b\n",
    "    size_fila=n_fila_a/n_cores\n",
    "    size_col=n_col_b/n_cores\n",
    "    mc=mp.RawArray[n_filas_a*n_col_b]\n",
    "    i_mc= len(a)/size_fila\n",
    "    f_mc= len(a(0))"
   ]
  },
  {
   "cell_type": "code",
   "execution_count": null,
   "id": "bcc9a081-9950-4eb5-b7fa-09cb27aec959",
   "metadata": {},
   "outputs": [],
   "source": [
    "def par_core(a,b,mc, i_mc, f_mc):\n",
    "    for i in range (i:mc, f_mc):\n",
    "        for j in range(len(b{0})):\n",
    "            for k in range (b[0])\n",
    "            mcli*len(b[0])+jl+=a[i][k]*b[k][j]"
   ]
  },
  {
   "cell_type": "code",
   "execution_count": 1,
   "id": "486cdaf4-e14f-4120-b7e6-ef16fc638a9f",
   "metadata": {},
   "outputs": [
    {
     "ename": "NameError",
     "evalue": "name 'mp' is not defined",
     "output_type": "error",
     "traceback": [
      "\u001b[1;31m---------------------------------------------------------------------------\u001b[0m",
      "\u001b[1;31mNameError\u001b[0m                                 Traceback (most recent call last)",
      "\u001b[1;32m<ipython-input-1-bb72664d31e7>\u001b[0m in \u001b[0;36m<module>\u001b[1;34m\u001b[0m\n\u001b[1;32m----> 1\u001b[1;33m \u001b[0mmp\u001b[0m\u001b[1;33m.\u001b[0m\u001b[0mcpu_count\u001b[0m\u001b[1;33m(\u001b[0m\u001b[1;33m)\u001b[0m\u001b[1;33m\u001b[0m\u001b[1;33m\u001b[0m\u001b[0m\n\u001b[0m",
      "\u001b[1;31mNameError\u001b[0m: name 'mp' is not defined"
     ]
    }
   ],
   "source": [
    "mp.cpu_count()"
   ]
  },
  {
   "cell_type": "code",
   "execution_count": null,
   "id": "5a0df476-0ef4-4d2a-a63b-394064934342",
   "metadata": {},
   "outputs": [],
   "source": []
  },
  {
   "cell_type": "code",
   "execution_count": null,
   "id": "3c4182d5-f34a-4ceb-a127-ae0a91c69075",
   "metadata": {},
   "outputs": [],
   "source": []
  }
 ],
 "metadata": {
  "kernelspec": {
   "display_name": "Python 3",
   "language": "python",
   "name": "python3"
  },
  "language_info": {
   "codemirror_mode": {
    "name": "ipython",
    "version": 3
   },
   "file_extension": ".py",
   "mimetype": "text/x-python",
   "name": "python",
   "nbconvert_exporter": "python",
   "pygments_lexer": "ipython3",
   "version": "3.8.8"
  }
 },
 "nbformat": 4,
 "nbformat_minor": 5
}
