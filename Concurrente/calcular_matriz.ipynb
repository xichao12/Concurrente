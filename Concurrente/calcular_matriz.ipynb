{
 "cells": [
  {
   "cell_type": "markdown",
   "id": "df3e73b5-14c2-4924-9519-89d6672d149e",
   "metadata": {},
   "source": [
    "multiplicacion de dos matrices\n"
   ]
  },
  {
   "cell_type": "code",
   "execution_count": 3,
   "id": "3af6e452-4e96-4171-8ce2-58c832a92978",
   "metadata": {},
   "outputs": [],
   "source": [
    "a=(1,2),(3,4),(4,5),(6,1)"
   ]
  },
  {
   "cell_type": "code",
   "execution_count": 6,
   "id": "2bea4b55-2f36-46a3-b759-d7e362bf99bf",
   "metadata": {},
   "outputs": [
    {
     "data": {
      "text/plain": [
       "tuple"
      ]
     },
     "execution_count": 6,
     "metadata": {},
     "output_type": "execute_result"
    }
   ],
   "source": [
    "type(a)"
   ]
  },
  {
   "cell_type": "code",
   "execution_count": 24,
   "id": "0119da74-ada9-4a6b-8385-ece9ff2c7af2",
   "metadata": {},
   "outputs": [
    {
     "name": "stdin",
     "output_type": "stream",
     "text": [
      "Ingrese el numero de filas 4\n"
     ]
    }
   ],
   "source": [
    "a_f=int(input(\"Ingrese el numero de filas\"))"
   ]
  },
  {
   "cell_type": "code",
   "execution_count": 25,
   "id": "4c69e246-0f68-4f15-b720-4d48a27b23b6",
   "metadata": {},
   "outputs": [
    {
     "data": {
      "text/plain": [
       "4"
      ]
     },
     "execution_count": 25,
     "metadata": {},
     "output_type": "execute_result"
    }
   ],
   "source": [
    "len(a_)"
   ]
  },
  {
   "cell_type": "code",
   "execution_count": 4,
   "id": "2cae46ab-dfb9-4ef6-9fb1-5f9861f87004",
   "metadata": {},
   "outputs": [
    {
     "data": {
      "text/plain": [
       "2"
      ]
     },
     "execution_count": 4,
     "metadata": {},
     "output_type": "execute_result"
    }
   ],
   "source": [
    "len(a[0])"
   ]
  },
  {
   "cell_type": "code",
   "execution_count": null,
   "id": "98e852c3-9b80-4d8a-8c0e-291282009566",
   "metadata": {},
   "outputs": [],
   "source": []
  },
  {
   "cell_type": "code",
   "execution_count": 20,
   "id": "8ecd5bba-dba1-4287-8f7d-733cbacbd595",
   "metadata": {},
   "outputs": [
    {
     "data": {
      "text/plain": [
       "((1, 2), (3, 4), (4, 5), (6, 1))"
      ]
     },
     "execution_count": 20,
     "metadata": {},
     "output_type": "execute_result"
    }
   ],
   "source": [
    "a"
   ]
  },
  {
   "cell_type": "code",
   "execution_count": 9,
   "id": "77fbf732-e2d2-476c-9d61-f35f390cf2c7",
   "metadata": {},
   "outputs": [],
   "source": [
    "b= ([1,2,3],[1,2,3])"
   ]
  },
  {
   "cell_type": "code",
   "execution_count": 10,
   "id": "f0259ff1-26d2-445d-ad9c-697edef25ecf",
   "metadata": {},
   "outputs": [
    {
     "data": {
      "text/plain": [
       "tuple"
      ]
     },
     "execution_count": 10,
     "metadata": {},
     "output_type": "execute_result"
    }
   ],
   "source": [
    "type(b)"
   ]
  },
  {
   "cell_type": "code",
   "execution_count": 11,
   "id": "8935a175-6580-4635-aa9c-8535a0f27a83",
   "metadata": {},
   "outputs": [],
   "source": [
    "import numpy as np"
   ]
  },
  {
   "cell_type": "code",
   "execution_count": 15,
   "id": "b78ada4a-b0ab-4b34-a821-8a87e4a30480",
   "metadata": {},
   "outputs": [],
   "source": [
    "a_=np.asarray(a)"
   ]
  },
  {
   "cell_type": "code",
   "execution_count": 17,
   "id": "aca28984-622c-47dd-87b5-0fe2d33615d8",
   "metadata": {},
   "outputs": [],
   "source": [
    "b_=np.asarray(b)"
   ]
  },
  {
   "cell_type": "code",
   "execution_count": 16,
   "id": "1a554110-80d7-4301-9484-a32f4ec48e0c",
   "metadata": {},
   "outputs": [
    {
     "data": {
      "text/plain": [
       "numpy.ndarray"
      ]
     },
     "execution_count": 16,
     "metadata": {},
     "output_type": "execute_result"
    }
   ],
   "source": [
    "type(a_)"
   ]
  },
  {
   "cell_type": "code",
   "execution_count": 18,
   "id": "c869cff4-008f-482b-8ed4-3b7bf30c1914",
   "metadata": {},
   "outputs": [
    {
     "data": {
      "text/plain": [
       "array([[1, 2, 3],\n",
       "       [1, 2, 3]])"
      ]
     },
     "execution_count": 18,
     "metadata": {},
     "output_type": "execute_result"
    }
   ],
   "source": [
    "b_"
   ]
  },
  {
   "cell_type": "code",
   "execution_count": 19,
   "id": "3452d246-6e66-453b-9a98-b1efc4d5f709",
   "metadata": {},
   "outputs": [
    {
     "data": {
      "text/plain": [
       "([1, 2, 3], [1, 2, 3])"
      ]
     },
     "execution_count": 19,
     "metadata": {},
     "output_type": "execute_result"
    }
   ],
   "source": [
    "b"
   ]
  },
  {
   "cell_type": "code",
   "execution_count": 21,
   "id": "092f8c87-7156-4e3d-ae89-3efdab7978ad",
   "metadata": {},
   "outputs": [
    {
     "data": {
      "text/plain": [
       "array([[1, 2],\n",
       "       [3, 4],\n",
       "       [4, 5],\n",
       "       [6, 1]])"
      ]
     },
     "execution_count": 21,
     "metadata": {},
     "output_type": "execute_result"
    }
   ],
   "source": [
    "a_\n"
   ]
  },
  {
   "cell_type": "code",
   "execution_count": 22,
   "id": "8eef5952-e1f0-4e0b-9b8d-c8c421a9ce51",
   "metadata": {},
   "outputs": [
    {
     "data": {
      "text/plain": [
       "array([[1, 2, 3],\n",
       "       [1, 2, 3]])"
      ]
     },
     "execution_count": 22,
     "metadata": {},
     "output_type": "execute_result"
    }
   ],
   "source": [
    "b_"
   ]
  },
  {
   "cell_type": "code",
   "execution_count": null,
   "id": "3ff0b5d6-7f60-4d7a-8b89-5345fbc7e997",
   "metadata": {},
   "outputs": [],
   "source": [
    "for i in range(4);\n",
    "for j in range(2);"
   ]
  }
 ],
 "metadata": {
  "kernelspec": {
   "display_name": "Python 3",
   "language": "python",
   "name": "python3"
  },
  "language_info": {
   "codemirror_mode": {
    "name": "ipython",
    "version": 3
   },
   "file_extension": ".py",
   "mimetype": "text/x-python",
   "name": "python",
   "nbconvert_exporter": "python",
   "pygments_lexer": "ipython3",
   "version": "3.8.8"
  }
 },
 "nbformat": 4,
 "nbformat_minor": 5
}
