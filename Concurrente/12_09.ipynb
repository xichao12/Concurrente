{
 "cells": [
  {
   "cell_type": "markdown",
   "id": "aaf526db-e565-49f3-9a38-242734bf4076",
   "metadata": {},
   "source": [
    "<center> <font size=\"10\" color=\"#de3831\">\n",
    "    <b> PROYECTO FINAL </b>\n",
    "    </font> </center>"
   ]
  },
  {
   "cell_type": "markdown",
   "id": "5f675c20-0aea-4da6-b38b-0558335ba914",
   "metadata": {},
   "source": [
    "<center> <font size=\"5\" color=\"black\"> Grupo 5  Xichao Lu\n"
   ]
  },
  {
   "cell_type": "code",
   "execution_count": null,
   "id": "0c304763-3eb3-404a-acc5-cf3b48f71efe",
   "metadata": {},
   "outputs": [],
   "source": [
    "import cv2, time,csv, streamlit as st, pandas as pd //para al final librerias que se usan//\n"
   ]
  },
  {
   "cell_type": "code",
   "execution_count": null,
   "id": "10f05b28-5e1d-4728-8493-0d4deb45134b",
   "metadata": {},
   "outputs": [],
   "source": []
  },
  {
   "cell_type": "code",
   "execution_count": null,
   "id": "98e1bbcb-b88d-4cd5-9e7c-879d7c869dd0",
   "metadata": {},
   "outputs": [],
   "source": [
    "\n",
    "from pyzbar.pyzbar import decode //todavia no se usan//\n"
   ]
  },
  {
   "cell_type": "code",
   "execution_count": null,
   "id": "f3f9a01f-adea-4861-9697-dc5b1cb1b02e",
   "metadata": {},
   "outputs": [],
   "source": []
  },
  {
   "cell_type": "code",
   "execution_count": 1,
   "id": "0727c86b-d184-4d0b-9259-4538456b7107",
   "metadata": {},
   "outputs": [],
   "source": [
    "import qrcode as qr\n"
   ]
  },
  {
   "cell_type": "code",
   "execution_count": null,
   "id": "3ecba1b1-7a78-43b8-9774-54f4eda392b9",
   "metadata": {},
   "outputs": [],
   "source": [
    "pip install qrcode"
   ]
  },
  {
   "cell_type": "code",
   "execution_count": null,
   "id": "fd915a4d-1473-4a2f-b88b-463900877b94",
   "metadata": {},
   "outputs": [],
   "source": [
    "git_hola =qr.make(\"https://github.com/xichao12\")"
   ]
  },
  {
   "cell_type": "code",
   "execution_count": null,
   "id": "17a4e8ec-1579-4707-aaba-a632386f439d",
   "metadata": {},
   "outputs": [],
   "source": [
    "git_hola"
   ]
  },
  {
   "cell_type": "code",
   "execution_count": null,
   "id": "8cf82a2f-f550-40c7-87d4-542e1dbae848",
   "metadata": {},
   "outputs": [],
   "source": [
    "type(git_hola)"
   ]
  },
  {
   "cell_type": "code",
   "execution_count": null,
   "id": "ab425807-ad0a-4769-b2ce-18f597a1b2bb",
   "metadata": {},
   "outputs": [],
   "source": [
    "git_hola.save(\"qr_github\")"
   ]
  },
  {
   "cell_type": "code",
   "execution_count": null,
   "id": "a910b30f-f07d-4752-a5e7-4b6083fc3be0",
   "metadata": {},
   "outputs": [],
   "source": [
    "pip install opencv-python"
   ]
  },
  {
   "cell_type": "code",
   "execution_count": 2,
   "id": "8b7f936a-e10b-47c9-815f-0b5b0ee991cf",
   "metadata": {},
   "outputs": [],
   "source": [
    "import cv2 "
   ]
  },
  {
   "cell_type": "code",
   "execution_count": null,
   "id": "95b26039-cf12-49d1-a1fc-9d969b9f1e81",
   "metadata": {},
   "outputs": [],
   "source": [
    "qr_img=cv2.imread(\"qr_github\")"
   ]
  },
  {
   "cell_type": "code",
   "execution_count": null,
   "id": "4cbd1a6f-af05-4951-a482-6152d8354a80",
   "metadata": {},
   "outputs": [],
   "source": [
    "type(qr_img)"
   ]
  },
  {
   "cell_type": "code",
   "execution_count": 3,
   "id": "126e1e99-a8bf-48af-a93c-4732c53015bd",
   "metadata": {},
   "outputs": [],
   "source": [
    "detector = cv2.QRCodeDetector()"
   ]
  },
  {
   "cell_type": "code",
   "execution_count": null,
   "id": "609a1105-9025-4956-8a3d-8dde5f98105f",
   "metadata": {},
   "outputs": [],
   "source": [
    "text,matrix,val=detector.detectAndDecode(qr_img)"
   ]
  },
  {
   "cell_type": "code",
   "execution_count": null,
   "id": "c327ea49-197a-4177-90e2-9077b6ea4ad1",
   "metadata": {},
   "outputs": [],
   "source": [
    "text"
   ]
  },
  {
   "cell_type": "code",
   "execution_count": null,
   "id": "a96f7135-581b-4b4d-a5dc-1a071dd05364",
   "metadata": {},
   "outputs": [],
   "source": [
    "matrix"
   ]
  },
  {
   "cell_type": "code",
   "execution_count": null,
   "id": "4a3de7ad-e6cd-49ca-9ae5-8dbf36c1933c",
   "metadata": {},
   "outputs": [],
   "source": [
    "val"
   ]
  },
  {
   "cell_type": "code",
   "execution_count": null,
   "id": "293e112b-2d3f-461f-8407-58ba77b41a23",
   "metadata": {},
   "outputs": [],
   "source": [
    "ls ejemplo_pasaporte.png"
   ]
  },
  {
   "cell_type": "code",
   "execution_count": null,
   "id": "e1ef5a17-04ea-4565-87f7-fb24e40c7b72",
   "metadata": {},
   "outputs": [],
   "source": [
    "pwd ejemplo_pasaporte.png"
   ]
  },
  {
   "cell_type": "code",
   "execution_count": null,
   "id": "c9ab1e5c-95ad-4ab9-a144-3e50bf9aac58",
   "metadata": {},
   "outputs": [],
   "source": [
    "image_= (\"ejemplo_pasaporte.png\")"
   ]
  },
  {
   "cell_type": "code",
   "execution_count": null,
   "id": "cfa51133-1db0-484d-a514-a3994b50e58d",
   "metadata": {},
   "outputs": [],
   "source": [
    "ls ejemplo_pasaporte1.png"
   ]
  },
  {
   "cell_type": "code",
   "execution_count": null,
   "id": "771edac4-a996-49de-a3da-1a9581add1e7",
   "metadata": {},
   "outputs": [],
   "source": [
    "type(ejemplo_pasaporte.png)"
   ]
  },
  {
   "cell_type": "code",
   "execution_count": null,
   "id": "3aa85189-7ea6-4921-9421-3e1a940f537a",
   "metadata": {},
   "outputs": [],
   "source": [
    "text,matrix,val=detector.detectAndDecode(image_1)"
   ]
  },
  {
   "cell_type": "code",
   "execution_count": 5,
   "id": "21a0c0b0-4f05-4333-a2aa-fc89b1d38dac",
   "metadata": {},
   "outputs": [],
   "source": [
    "cosas_=(\"cosas.png\")"
   ]
  },
  {
   "cell_type": "code",
   "execution_count": null,
   "id": "a70ae818-e87b-47fa-b58b-2898c04388b9",
   "metadata": {},
   "outputs": [],
   "source": [
    "image_1= (\"ejemplo_pasaporte1.png\")"
   ]
  },
  {
   "cell_type": "code",
   "execution_count": null,
   "id": "2a864b3e-c37d-403c-a9d4-4e66bb62545c",
   "metadata": {},
   "outputs": [],
   "source": [
    "type(image_1)"
   ]
  },
  {
   "cell_type": "code",
   "execution_count": null,
   "id": "b4350ac0-4479-4029-bb33-caf5b48c5f29",
   "metadata": {},
   "outputs": [],
   "source": [
    "type(image_\n",
    "    )"
   ]
  },
  {
   "cell_type": "code",
   "execution_count": 6,
   "id": "3e6b2a0e-5f09-4d40-9745-247a5243f641",
   "metadata": {},
   "outputs": [
    {
     "data": {
      "text/plain": [
       "str"
      ]
     },
     "execution_count": 6,
     "metadata": {},
     "output_type": "execute_result"
    }
   ],
   "source": [
    "type(cosas_)"
   ]
  },
  {
   "cell_type": "code",
   "execution_count": null,
   "id": "5935fe78-ca84-4fe4-91af-99bd4bc7f50b",
   "metadata": {},
   "outputs": [],
   "source": [
    "abs_=cv2.imread(\"ejemplo_pasaporte.png\")"
   ]
  },
  {
   "cell_type": "code",
   "execution_count": null,
   "id": "449677f0-ca28-4edc-800b-095340f0766b",
   "metadata": {},
   "outputs": [],
   "source": [
    "type(abs_)"
   ]
  },
  {
   "cell_type": "code",
   "execution_count": null,
   "id": "d87db29a-9c2f-47a8-8bf3-bc5ee971063c",
   "metadata": {},
   "outputs": [],
   "source": [
    "text,matrix,val=detector.detectAndDecode(abs_)"
   ]
  },
  {
   "cell_type": "code",
   "execution_count": null,
   "id": "6f6607c3-2067-432c-9928-988cc41bb638",
   "metadata": {},
   "outputs": [],
   "source": [
    "text"
   ]
  },
  {
   "cell_type": "code",
   "execution_count": null,
   "id": "6744de05-083d-477e-9ee7-c4ce8b356855",
   "metadata": {},
   "outputs": [],
   "source": [
    "const_=cv2.imread(\"cosas.png\")"
   ]
  },
  {
   "cell_type": "code",
   "execution_count": null,
   "id": "93c68f73-96cf-4941-9c0e-0a87349758a2",
   "metadata": {},
   "outputs": [],
   "source": [
    "const_"
   ]
  },
  {
   "cell_type": "code",
   "execution_count": null,
   "id": "e308564b-4750-43b2-bf08-8a9a4131b990",
   "metadata": {},
   "outputs": [],
   "source": [
    "pedo_=cv2.imread(\"cosas_\")"
   ]
  },
  {
   "cell_type": "code",
   "execution_count": null,
   "id": "9d147c10-021b-4963-90a1-068693459f09",
   "metadata": {},
   "outputs": [],
   "source": [
    "type(pedo_)"
   ]
  },
  {
   "cell_type": "code",
   "execution_count": null,
   "id": "4f665cd1-4e96-40ba-bde3-f06493729c26",
   "metadata": {},
   "outputs": [],
   "source": []
  }
 ],
 "metadata": {
  "kernelspec": {
   "display_name": "Python 3",
   "language": "python",
   "name": "python3"
  },
  "language_info": {
   "codemirror_mode": {
    "name": "ipython",
    "version": 3
   },
   "file_extension": ".py",
   "mimetype": "text/x-python",
   "name": "python",
   "nbconvert_exporter": "python",
   "pygments_lexer": "ipython3",
   "version": "3.8.8"
  },
  "toc-showmarkdowntxt": false
 },
 "nbformat": 4,
 "nbformat_minor": 5
}
