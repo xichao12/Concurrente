{
 "cells": [
  {
   "cell_type": "code",
   "execution_count": 1,
   "id": "9b56ea01-fc02-4d97-b0d8-94306518a045",
   "metadata": {},
   "outputs": [],
   "source": [
    "import qrcode as qr"
   ]
  },
  {
   "cell_type": "code",
   "execution_count": 2,
   "id": "98e7d4eb-a14b-4564-8154-f2131949a43d",
   "metadata": {},
   "outputs": [],
   "source": [
    "import cv2 "
   ]
  },
  {
   "cell_type": "code",
   "execution_count": 3,
   "id": "c6e9899f-5572-418f-8a7a-e41736e73fd4",
   "metadata": {},
   "outputs": [],
   "source": [
    "detector = cv2.QRCodeDetector()"
   ]
  },
  {
   "cell_type": "code",
   "execution_count": 5,
   "id": "76bbc481-d8ca-4bcf-8cbc-553cefae2e4c",
   "metadata": {},
   "outputs": [],
   "source": [
    "cosas_=(\"cosas.png\")"
   ]
  },
  {
   "cell_type": "code",
   "execution_count": 8,
   "id": "9273fbfc-84de-466f-8433-2dc7b34d3dec",
   "metadata": {},
   "outputs": [],
   "source": [
    "qr_img=cv2.imread(\"cosas.png\")"
   ]
  },
  {
   "cell_type": "code",
   "execution_count": 9,
   "id": "2cdac871-dc57-4a9b-8664-e8fd6933bb74",
   "metadata": {},
   "outputs": [],
   "source": [
    "text,matrix,val=detector.detectAndDecode(qr_img)"
   ]
  },
  {
   "cell_type": "code",
   "execution_count": 10,
   "id": "1a35dc01-30b7-4f45-9788-296bbd07983f",
   "metadata": {},
   "outputs": [
    {
     "data": {
      "text/plain": [
       "'HC1:NCFOXN%TSMAHN-HXOCLGML-P8ZVHGJ-AH:TA1ROT$SD PL*IS2VF%GKG5/*E*71F/8X*G3M9JUPY0BZW4V/AY73CNN7J3J1H:43DAJBRNFG3CNBRI3CHG7KM0KLGJJ5C9-JE%7A6IA*$36IASD9YHILIIX2MELNKHKYIARGEX3E1.BLEE$JDM:C5H8QNL1FE1.B7I9 H9/.DV2MGDIR0MTDQVOCIL8-TIK*R3T3+7A.N88J4R$FBMA2 U6QS25P0QIRR97I2HOAAP9UY9VYCDEBD0HX2JR$4O1K8KES/F-1JZ.KELNZEG%12/9TL4T.B9 UP9C1-ZEN.HQCEFREGUA P1NV1K/U31AP8Q0OE+51QN1RNU.*U-51JFEKQU2:UWH9 UPRB8LTD1$AZWJYQ2%VLUHGG%5TW5A 6+O67N6F7E46WW%9Z4EM2PKAWMO9T.3NB1E7R0%K06N0%8/YM.QPMSD9IM28K/NS /K%TTVP5TPTT$CKTMS MKCHK+RO2W58ECQ568HX%A+YP8MAKL62QG'"
      ]
     },
     "execution_count": 10,
     "metadata": {},
     "output_type": "execute_result"
    }
   ],
   "source": [
    "text\n"
   ]
  },
  {
   "cell_type": "code",
   "execution_count": 11,
   "id": "4955a503-faec-49ab-b955-a8c6b32ff009",
   "metadata": {},
   "outputs": [
    {
     "data": {
      "text/plain": [
       "array([[[ 20.,  17.],\n",
       "        [797.,  17.],\n",
       "        [797., 794.],\n",
       "        [ 20., 794.]]], dtype=float32)"
      ]
     },
     "execution_count": 11,
     "metadata": {},
     "output_type": "execute_result"
    }
   ],
   "source": [
    "matrix"
   ]
  },
  {
   "cell_type": "code",
   "execution_count": 12,
   "id": "8f6c722c-7e90-4d39-93a1-2b304143f286",
   "metadata": {},
   "outputs": [
    {
     "data": {
      "text/plain": [
       "array([[  0,   0,   0, ...,   0,   0,   0],\n",
       "       [  0, 255, 255, ..., 255, 255,   0],\n",
       "       [  0, 255,   0, ...,   0, 255,   0],\n",
       "       ...,\n",
       "       [  0, 255,   0, ...,   0, 255, 255],\n",
       "       [  0, 255, 255, ...,   0,   0,   0],\n",
       "       [  0,   0,   0, ...,   0,   0, 255]], dtype=uint8)"
      ]
     },
     "execution_count": 12,
     "metadata": {},
     "output_type": "execute_result"
    }
   ],
   "source": [
    "val"
   ]
  },
  {
   "cell_type": "code",
   "execution_count": 13,
   "id": "b3c67320-81ac-45cd-87c0-92320e559197",
   "metadata": {},
   "outputs": [
    {
     "data": {
      "text/plain": [
       "('HC1:NCFOXN%TSMAHN-HXOCLGML-P8ZVHGJ-AH:TA1ROT$SD PL*IS2VF%GKG5/*E*71F/8X*G3M9JUPY0BZW4V/AY73CNN7J3J1H:43DAJBRNFG3CNBRI3CHG7KM0KLGJJ5C9-JE%7A6IA*$36IASD9YHILIIX2MELNKHKYIARGEX3E1.BLEE$JDM:C5H8QNL1FE1.B7I9 H9/.DV2MGDIR0MTDQVOCIL8-TIK*R3T3+7A.N88J4R$FBMA2 U6QS25P0QIRR97I2HOAAP9UY9VYCDEBD0HX2JR$4O1K8KES/F-1JZ.KELNZEG%12/9TL4T.B9 UP9C1-ZEN.HQCEFREGUA P1NV1K/U31AP8Q0OE+51QN1RNU.*U-51JFEKQU2:UWH9 UPRB8LTD1$AZWJYQ2%VLUHGG%5TW5A 6+O67N6F7E46WW%9Z4EM2PKAWMO9T.3NB1E7R0%K06N0%8/YM.QPMSD9IM28K/NS /K%TTVP5TPTT$CKTMS MKCHK+RO2W58ECQ568HX%A+YP8MAKL62QG',\n",
       " array([[[ 20.,  17.],\n",
       "         [797.,  17.],\n",
       "         [797., 794.],\n",
       "         [ 20., 794.]]], dtype=float32),\n",
       " array([[  0,   0,   0, ...,   0,   0,   0],\n",
       "        [  0, 255, 255, ..., 255, 255,   0],\n",
       "        [  0, 255,   0, ...,   0, 255,   0],\n",
       "        ...,\n",
       "        [  0, 255,   0, ...,   0, 255, 255],\n",
       "        [  0, 255, 255, ...,   0,   0,   0],\n",
       "        [  0,   0,   0, ...,   0,   0, 255]], dtype=uint8))"
      ]
     },
     "execution_count": 13,
     "metadata": {},
     "output_type": "execute_result"
    }
   ],
   "source": [
    "detector.detectAndDecode(qr_img)"
   ]
  },
  {
   "cell_type": "code",
   "execution_count": null,
   "id": "911ab059-7b21-453b-95e1-56c468b2e1bd",
   "metadata": {},
   "outputs": [],
   "source": []
  }
 ],
 "metadata": {
  "kernelspec": {
   "display_name": "Python 3",
   "language": "python",
   "name": "python3"
  },
  "language_info": {
   "codemirror_mode": {
    "name": "ipython",
    "version": 3
   },
   "file_extension": ".py",
   "mimetype": "text/x-python",
   "name": "python",
   "nbconvert_exporter": "python",
   "pygments_lexer": "ipython3",
   "version": "3.8.8"
  }
 },
 "nbformat": 4,
 "nbformat_minor": 5
}
